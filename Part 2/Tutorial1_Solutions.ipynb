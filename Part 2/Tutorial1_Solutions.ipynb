{
 "cells": [
  {
   "cell_type": "markdown",
   "metadata": {},
   "source": [
    "# Notebook 1: Firing rates & spike statistics\n",
    "\n",
    "Computational Biology 2 - WS 23/24\n",
    "\n",
    "Material created by Katharina Bracher and Florian Eberhardt\n",
    "\n",
    "---\n"
   ]
  },
  {
   "cell_type": "code",
   "execution_count": 2,
   "metadata": {
    "colab": {
     "base_uri": "https://localhost:8080/",
     "height": 482
    },
    "id": "aesSN8HRWPZ6",
    "outputId": "98d32611-5699-45cb-de73-7c4f285ef19f"
   },
   "outputs": [],
   "source": [
    "import numpy as np\n",
    "import matplotlib.pyplot as plt\n",
    "import seaborn as sns"
   ]
  },
  {
   "cell_type": "markdown",
   "metadata": {},
   "source": [
    "### Problem 1: Important Terms and Definitions\n",
    "Before working on the Notebook answer the following questions:\n",
    "\n",
    "- What is an action potential? How is it generated? How can it be measured?\n",
    "- What is a spike train?\n",
    "- What are spike times?\n",
    "- What is the spike count rate?\n",
    "- What is meant by the term trial average, when measuring firing rates?\n",
    "- What is a spiking probability?\n",
    "- What is the difference between the time-dependent firing rate, the trial average firing rate and and the average firing rate?\n"
   ]
  },
  {
   "cell_type": "markdown",
   "metadata": {},
   "source": [
    "### Problem 2: Our first Dataset - Electrophysiological Recordings"
   ]
  },
  {
   "cell_type": "code",
   "execution_count": 4,
   "metadata": {
    "colab": {
     "base_uri": "https://localhost:8080/",
     "height": 482
    },
    "id": "aesSN8HRWPZ6",
    "outputId": "98d32611-5699-45cb-de73-7c4f285ef19f"
   },
   "outputs": [],
   "source": [
    "# Load the data from a file\n",
    "data = np.load('./Data1.npz', allow_pickle=True)"
   ]
  },
  {
   "cell_type": "code",
   "execution_count": 5,
   "metadata": {},
   "outputs": [
    {
     "data": {
      "text/plain": [
       "['V', 'dt', 'T', 'time', 'SpikeTimes']"
      ]
     },
     "execution_count": 5,
     "metadata": {},
     "output_type": "execute_result"
    }
   ],
   "source": [
    "# Here is a list of the dict keys\n",
    "list(data.keys())"
   ]
  },
  {
   "cell_type": "markdown",
   "metadata": {},
   "source": [
    "***Promlem 3: Familiarize yourself with the data:***\n",
    "- Extract the data from the dictionary to arrays.\n",
    "- Describe the data contained in the dataset. \n",
    "- What was measured and how? Visualize the recording.\n",
    "- What was the recording time and at which temporal resolution was measured?\n",
    "- How many spikes were encountered?"
   ]
  },
  {
   "cell_type": "code",
   "execution_count": 6,
   "metadata": {
    "colab": {
     "base_uri": "https://localhost:8080/",
     "height": 482
    },
    "id": "aesSN8HRWPZ6",
    "outputId": "98d32611-5699-45cb-de73-7c4f285ef19f"
   },
   "outputs": [],
   "source": [
    "v = data['V']  # membrane voltage in mV\n",
    "spike_times = data['SpikeTimes']  # time points of spikes\n",
    "dt = data['dt'][0]  # temporal resolution\n",
    "t_max = data['T'][0]  # number of time steps in data set\n",
    "time = data['time']  # time steps in ms"
   ]
  },
  {
   "cell_type": "code",
   "execution_count": 7,
   "metadata": {},
   "outputs": [
    {
     "data": {
      "text/plain": [
       "array([0.0000e+00, 1.0000e-01, 2.0000e-01, ..., 4.9998e+03, 4.9999e+03,\n",
       "       5.0000e+03])"
      ]
     },
     "execution_count": 7,
     "metadata": {},
     "output_type": "execute_result"
    }
   ],
   "source": [
    "# time in ms, with step size dt=0.1ms\n",
    "time"
   ]
  },
  {
   "cell_type": "code",
   "execution_count": 8,
   "metadata": {
    "colab": {
     "base_uri": "https://localhost:8080/",
     "height": 482
    },
    "id": "aesSN8HRWPZ6",
    "outputId": "98d32611-5699-45cb-de73-7c4f285ef19f"
   },
   "outputs": [
    {
     "name": "stdout",
     "output_type": "stream",
     "text": [
      "Temporal resolution: dt =  0.1 ms\n",
      "Recorgin time: T =  5000 ms\n"
     ]
    }
   ],
   "source": [
    "print('Temporal resolution: dt = ',dt,'ms')\n",
    "print('Recorgin time: T = ',t_max,'ms')"
   ]
  },
  {
   "cell_type": "code",
   "execution_count": 9,
   "metadata": {},
   "outputs": [
    {
     "data": {
      "image/png": "[encoded data removed]",
      "text/plain": [
       "<Figure size 432x288 with 1 Axes>"
      ]
     },
     "metadata": {
      "needs_background": "light"
     },
     "output_type": "display_data"
    }
   ],
   "source": [
    "plt.plot(time/1000,v,color='gray')\n",
    "plt.yticks([-70,-50,-30,-10])\n",
    "plt.ylabel('V (mV)')\n",
    "plt.xlabel('time (sec)')\n",
    "sns.despine()\n",
    "plt.tight_layout()"
   ]
  },
  {
   "cell_type": "markdown",
   "metadata": {},
   "source": [
    "### Problem 3: Write Python-code\n",
    "\n",
    "Find the time points of all spikes based on the voltage trace. \n",
    "Compare the results to the spike times in the dataset."
   ]
  },
  {
   "cell_type": "code",
   "execution_count": 10,
   "metadata": {},
   "outputs": [
    {
     "data": {
      "text/plain": [
       "(array([ 258.2, 1176.9, 1299. , 1829.6, 2021.7, 2614.7, 2837.5, 3233.6,\n",
       "        3264.5, 3600.5, 4659.3]),\n",
       " array([ 258.4 , 1177.1 , 1299.15, 1829.7 , 2021.8 , 2614.9 , 2837.6 ,\n",
       "        3233.7 , 3264.6 , 3600.7 , 4659.5 ]))"
      ]
     },
     "execution_count": 10,
     "metadata": {},
     "output_type": "execute_result"
    }
   ],
   "source": [
    "# SOLUTION\n",
    "threshold = -30 # mV\n",
    "# find time points where voltage trace crosses threshold\n",
    "crossings = time[np.where(((v[:-1]-threshold)*(v[1:]-threshold)) < 0)]\n",
    "# reshape, upward and downward crossing in one row\n",
    "crossings = crossings.reshape(np.size(crossings)//2, 2)\n",
    "# central point between upward and downward crossing\n",
    "spike_times_2 = np.mean(crossings, axis=1)\n",
    "spike_times, spike_times_2"
   ]
  },
  {
   "cell_type": "code",
   "execution_count": 11,
   "metadata": {},
   "outputs": [
    {
     "name": "stdout",
     "output_type": "stream",
     "text": [
      "[258.1, 1176.8, 1298.8000000000002, 1829.4, 2021.5, 2614.6000000000004, 2837.3, 3233.4, 3264.3, 3600.4, 4659.2]\n"
     ]
    }
   ],
   "source": [
    "# alternative solution\n",
    "# find time points at which action potentialss are initiated\n",
    "spike_times_3 = []\n",
    "for i in range(len(v)-1):\n",
    "    if v[i] < threshold and v[i+1] > threshold:\n",
    "        spike_times_3.append(i*dt)\n",
    "\n",
    "print(spike_times_3)"
   ]
  },
  {
   "cell_type": "markdown",
   "metadata": {},
   "source": [
    "### Problem 4: Histogram\n",
    "Discretize the time and plot a histogram of the spike counts per bin ($\\Delta t$ =500ms). Use `SpikeTimes` provided in the data. The NumPy function `histogram` might be useful. Alternatively use the hist() method from the pyplot module.\n",
    "\n",
    "In a next step change the binsize to different values and plot the spike count. What happens for small time bins ($\\Delta t$ =0.1ms)?"
   ]
  },
  {
   "cell_type": "code",
   "execution_count": 12,
   "metadata": {
    "colab": {
     "base_uri": "https://localhost:8080/",
     "height": 482
    },
    "id": "aesSN8HRWPZ6",
    "outputId": "98d32611-5699-45cb-de73-7c4f285ef19f"
   },
   "outputs": [],
   "source": [
    "# Bin size and discretized time for computing counts\n",
    "dt_rate=500 # \n",
    "spike_count_time=np.arange(0,t_max+1,dt_rate)\n",
    "\n",
    "# Use histogram to compute counts\n",
    "spike_counts=np.histogram(spike_times,spike_count_time)[0]"
   ]
  },
  {
   "cell_type": "code",
   "execution_count": 13,
   "metadata": {},
   "outputs": [
    {
     "data": {
      "text/plain": [
       "array([1, 0, 2, 1, 1, 2, 2, 1, 0, 1])"
      ]
     },
     "execution_count": 13,
     "metadata": {},
     "output_type": "execute_result"
    }
   ],
   "source": [
    "spike_counts"
   ]
  },
  {
   "cell_type": "code",
   "execution_count": 14,
   "metadata": {},
   "outputs": [
    {
     "data": {
      "image/png": "[encoded data removed]",
      "text/plain": [
       "<Figure size 432x288 with 1 Axes>"
      ]
     },
     "metadata": {
      "needs_background": "light"
     },
     "output_type": "display_data"
    }
   ],
   "source": [
    "plt.bar(spike_count_time[:-1],spike_counts,width=.9*dt_rate,align='edge')\n",
    "plt.xlabel('time (0.1ms)')\n",
    "plt.ylabel('spike count')\n",
    "plt.yticks([0,1,2])\n",
    "sns.despine()\n",
    "plt.tight_layout()"
   ]
  },
  {
   "cell_type": "markdown",
   "metadata": {},
   "source": [
    "#### Binarized spike train."
   ]
  },
  {
   "cell_type": "code",
   "execution_count": 15,
   "metadata": {
    "colab": {
     "base_uri": "https://localhost:8080/",
     "height": 482
    },
    "id": "aesSN8HRWPZ6",
    "outputId": "98d32611-5699-45cb-de73-7c4f285ef19f"
   },
   "outputs": [],
   "source": [
    "binarized_spike_train=np.histogram(spike_times,time)[0]"
   ]
  },
  {
   "cell_type": "code",
   "execution_count": 16,
   "metadata": {},
   "outputs": [
    {
     "data": {
      "image/png": "[encoded data removed]",
      "text/plain": [
       "<Figure size 432x288 with 1 Axes>"
      ]
     },
     "metadata": {
      "needs_background": "light"
     },
     "output_type": "display_data"
    }
   ],
   "source": [
    "plt.plot((time[:-1]+time[1:])/2.,binarized_spike_train)\n",
    "plt.xlabel('time (ms)')\n",
    "plt.ylabel('binarized spike train')\n",
    "plt.yticks([0,1])\n",
    "sns.despine()\n",
    "plt.tight_layout()"
   ]
  },
  {
   "cell_type": "markdown",
   "metadata": {},
   "source": [
    "### Problem 5: Time dependent firing rate\n",
    "Let us finally compute the binned firing rate. For computing the rate use the Spike Counts with $\\Delta t$ = 500ms and plot the rate in Hz."
   ]
  },
  {
   "cell_type": "code",
   "execution_count": 17,
   "metadata": {
    "colab": {
     "base_uri": "https://localhost:8080/",
     "height": 482
    },
    "id": "aesSN8HRWPZ6",
    "outputId": "98d32611-5699-45cb-de73-7c4f285ef19f"
   },
   "outputs": [],
   "source": [
    "# Compute rate\n",
    "rate = 1000 * spike_counts / dt_rate #factor 1000: 1/ms -> 1/s"
   ]
  },
  {
   "cell_type": "code",
   "execution_count": 18,
   "metadata": {},
   "outputs": [
    {
     "data": {
      "image/png": "[encoded data removed]",
      "text/plain": [
       "<Figure size 432x288 with 1 Axes>"
      ]
     },
     "metadata": {
      "needs_background": "light"
     },
     "output_type": "display_data"
    }
   ],
   "source": [
    "plt.step(spike_count_time[1:], rate)\n",
    "plt.xlabel('time (ms)')\n",
    "plt.ylabel('rate (Hz)')\n",
    "plt.xlim(left=0)\n",
    "plt.yticks([0,2,4])\n",
    "sns.despine()\n",
    "plt.tight_layout()"
   ]
  },
  {
   "cell_type": "markdown",
   "metadata": {},
   "source": [
    "### Problem 6: Discussion\n",
    "What about the firing rate in the window from 0 and 500 ms? And how to choose the \"right\" bin width?"
   ]
  },
  {
   "cell_type": "code",
   "execution_count": 22,
   "metadata": {},
   "outputs": [
    {
     "data": {
      "image/png": "[encoded data removed]",
      "text/plain": [
       "<Figure size 432x288 with 1 Axes>"
      ]
     },
     "metadata": {
      "needs_background": "light"
     },
     "output_type": "display_data"
    }
   ],
   "source": [
    "plt.bar(spike_count_time[:-1],rate,width=.9*dt_rate,align='edge')\n",
    "plt.xlabel('time (ms)')\n",
    "plt.ylabel('rate (Hz)')\n",
    "plt.xlim(left=0)\n",
    "plt.yticks([0,2,4])\n",
    "sns.despine()\n",
    "plt.tight_layout()"
   ]
  },
  {
   "cell_type": "code",
   "execution_count": 30,
   "metadata": {},
   "outputs": [
    {
     "data": {
      "image/png": "[encoded data removed]",
      "text/plain": [
       "<Figure size 432x288 with 1 Axes>"
      ]
     },
     "metadata": {
      "needs_background": "light"
     },
     "output_type": "display_data"
    }
   ],
   "source": [
    "# too small dt, gives only 2 possible firing rate values.\n",
    "dtRate=10 #ms\n",
    "spike_count_time=np.arange(0,t_max+1,dt_rate)\n",
    "spike_counts=np.histogram(spike_times,spike_count_time)[0]\n",
    "rate=1000*spike_counts/dt_rate #factor 1000: 1/ms -> 1/s\n",
    "\n",
    "plt.step(spike_count_time[1:], rate)\n",
    "plt.xlabel('time (ms)')\n",
    "plt.ylabel('rate (Hz)')\n",
    "plt.xlim(left=0)\n",
    "#plt.yticks([0,2,4])\n",
    "sns.despine()\n",
    "plt.tight_layout()"
   ]
  },
  {
   "cell_type": "markdown",
   "metadata": {},
   "source": [
    "__For s discussion read Theoretical Neuroscience (Dayan & Abbott) 1.2 Spike Trains and Firing Rates p.8-13__"
   ]
  },
  {
   "cell_type": "markdown",
   "metadata": {},
   "source": [
    "Adapted from https://github.com/RobertRosenbaum/ModelingNeuralCircuits"
   ]
  }
 ],
 "metadata": {
  "colab": {
   "collapsed_sections": [],
   "provenance": []
  },
  "kernelspec": {
   "display_name": "Python 3 (ipykernel)",
   "language": "python",
   "name": "python3"
  },
  "language_info": {
   "codemirror_mode": {
    "name": "ipython",
    "version": 3
   },
   "file_extension": ".py",
   "mimetype": "text/x-python",
   "name": "python",
   "nbconvert_exporter": "python",
   "pygments_lexer": "ipython3",
   "version": "3.9.7"
  }
 },
 "nbformat": 4,
 "nbformat_minor": 4
}
