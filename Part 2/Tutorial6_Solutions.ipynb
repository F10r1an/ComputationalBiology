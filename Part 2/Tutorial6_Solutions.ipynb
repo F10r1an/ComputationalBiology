{
 "cells": [
  {
   "cell_type": "markdown",
   "metadata": {},
   "source": [
    "# Notebook 6: Population Decoding\n",
    "\n",
    "Computational Biology 2 - WS 23/24\n",
    "\n",
    "Material created by Katharina Bracher and Florian Eberhardt.\n"
   ]
  },
  {
   "cell_type": "code",
   "execution_count": 1,
   "metadata": {},
   "outputs": [
    {
     "name": "stderr",
     "output_type": "stream",
     "text": [
      "/home/work/.conda/envs/py39env/lib/python3.9/site-packages/pandas/core/arrays/masked.py:62: UserWarning: Pandas requires version '1.3.4' or newer of 'bottleneck' (version '1.3.2' currently installed).\n",
      "  from pandas.core import (\n"
     ]
    }
   ],
   "source": [
    "import numpy as np\n",
    "import matplotlib.pyplot as plt\n",
    "import pandas as pd\n",
    "import pickle"
   ]
  },
  {
   "cell_type": "markdown",
   "metadata": {},
   "source": [
    "---\n",
    "## Population Coding in Vision"
   ]
  },
  {
   "cell_type": "markdown",
   "metadata": {},
   "source": [
    "Information is encoded in the brain by populations or clusters of cells, rather than by single cells. This encoding strategy is known as population coding."
   ]
  },
  {
   "cell_type": "markdown",
   "metadata": {},
   "source": [
    "<img src=\"https://www.cns.nyu.edu/~david/courses/perception/lecturenotes/V1/LGN-V1-slides/Slide15.jpg\" width=\"500\">"
   ]
  },
  {
   "cell_type": "markdown",
   "metadata": {},
   "source": [
    "<img src=\"https://media.springernature.com/full/springer-static/image/art%3A10.1038%2F35039062/MediaObjects/41583_2000_Article_BF35039062_Fig1_HTML.gif\" width=\"500\">\n",
    "\n",
    "a | Bell-shaped tuning curves to direction for 16 neurons. b | A population pattern of activity across 64 neurons with bell-shaped tuning curves in response to an object moving at −40°. The activity of each cell was generated using eqn 1, and plotted at the location of the preferred direction of the cell. The overall activity looks like a `noisy' hill centred around the stimulus direction. c | Population vector decoding fits a cosine function to the observed activity, and uses the peak of the cosine function, ŝ, as an estimate of the encoded direction. d | Maximum likelihood fits a template derived from the tuning curves of the cells. More precisely, the template is obtained from the noiseless (or average) population activity in response to a stimulus moving in direction s. The peak position of the template with the best fit, ŝ, corresponds to the maximum likelihood estimate, that is, the value that maximizes P(r | s).\n",
    "\n",
    "Source: https://www.nature.com/articles/35039062\n",
    "\n",
    "---"
   ]
  },
  {
   "cell_type": "markdown",
   "metadata": {},
   "source": [
    "## Head direction cells in flys\n",
    "https://www.youtube.com/watch?v=9x3VXgKS7VI"
   ]
  },
  {
   "cell_type": "markdown",
   "metadata": {},
   "source": [
    "Today we will simulate a population of orientation-selective neurons that encode the fly's head direction and use population vectors to first estimate the neurons preferred orientations and then decode the fly's head direction  from the population activity."
   ]
  },
  {
   "cell_type": "markdown",
   "metadata": {},
   "source": [
    "## Simulation of recording data\n",
    "\n",
    "To simulate the neurons we will use: \n",
    "- Poisson spike statistics,\n",
    "- Gaussian tuning of width $\\sigma=60°$ and \n",
    "- maximal response of 100 spikes/sec\n",
    "\n",
    "Neurons have random preferred orientations between 0-360° \n"
   ]
  },
  {
   "cell_type": "code",
   "execution_count": 2,
   "metadata": {},
   "outputs": [],
   "source": [
    "# Gaussian tuning, Poisson firing\n",
    "def gaussian(A, x, sigma):\n",
    "    return A*np.exp(-(x)**2/(2*sigma**2))\n",
    "\n",
    "def poissonspikes(rate, time):\n",
    "    spikes = []\n",
    "    t = 0\n",
    "    while t < time:\n",
    "        t -= np.log(np.random.rand())/rate\n",
    "        spikes.append(t)\n",
    "    return spikes[:-1]\n",
    "\n",
    "def get_spike_train(prefori, stimori, time, tunsig=60, tunmax=100):\n",
    "    \"\"\"\n",
    "    prefori: preferred orientation of neuron 0-360\n",
    "    stimor: stimulus orientation of neuron 0-360\n",
    "    tunsig: width of tuning curves [deg]\n",
    "    tunmax: max firing rate, amplitude of gaussian tuning curve\n",
    "    \"\"\"\n",
    "    rad = (prefori/2.-stimori/2.)/180.*np.pi\n",
    "    x = np.arcsin(np.abs(np.sin(rad)))*180/np.pi\n",
    "    mean_rate = gaussian(tunmax, x, tunsig/2.)\n",
    "    spike_train = poissonspikes(mean_rate, time)\n",
    "    return np.array(spike_train)\n",
    "    "
   ]
  },
  {
   "cell_type": "code",
   "execution_count": 3,
   "metadata": {},
   "outputs": [],
   "source": [
    "t = 10 # s\n",
    "n_neurons = 50\n",
    "n_stimuli = 36\n",
    "n_test = 5\n",
    "preferred_orientations = np.random.rand(n_neurons)*360.\n",
    "stimulus_orientations_train = np.arange(n_stimuli)/n_stimuli*360.\n",
    "stimulus_orientations_test = np.arange(n_test)/n_test*360."
   ]
  },
  {
   "cell_type": "code",
   "execution_count": 4,
   "metadata": {},
   "outputs": [
    {
     "name": "stderr",
     "output_type": "stream",
     "text": [
      "/tmp/ipykernel_8223/2773745162.py:5: DeprecationWarning: tostring() is deprecated. Use tobytes() instead.\n",
      "  recordings_train.loc[i,stim]=st.tostring()\n",
      "/tmp/ipykernel_8223/2773745162.py:11: DeprecationWarning: tostring() is deprecated. Use tobytes() instead.\n",
      "  recordings_test.loc[i,stim]=st.tostring()\n"
     ]
    }
   ],
   "source": [
    "recordings_train = pd.DataFrame(index=range(n_neurons), columns=stimulus_orientations_train, dtype='object')\n",
    "for stim in stimulus_orientations_train:\n",
    "    for i, pref in enumerate(preferred_orientations):\n",
    "        st = get_spike_train(pref, stim, t)  \n",
    "        recordings_train.loc[i,stim]=st.tostring()\n",
    "        \n",
    "recordings_test = pd.DataFrame(index=range(n_neurons), columns=stimulus_orientations_test, dtype='object')\n",
    "for stim in stimulus_orientations_test:\n",
    "    for i, pref in enumerate(preferred_orientations):\n",
    "        st = get_spike_train(pref, stim, t)  \n",
    "        recordings_test.loc[i,stim]=st.tostring()"
   ]
  },
  {
   "cell_type": "code",
   "execution_count": 6,
   "metadata": {},
   "outputs": [],
   "source": [
    "data = {\n",
    "    \"preferred_orientations\": preferred_orientations,\n",
    "    \"stimulus_orientations_train\": stimulus_orientations_train,\n",
    "    \"stimulus_orientations_test\":stimulus_orientations_test,\n",
    "    \"neurons\": list(range(n_neurons)),\n",
    "    \"recordings_train\": recordings_train,\n",
    "    \"recordings_test\": recordings_test,\n",
    "    \"time\": t\n",
    "}\n",
    "\n",
    "pickle.dump(data,open('./population_recordings.pcl','wb'))"
   ]
  },
  {
   "cell_type": "markdown",
   "metadata": {},
   "source": [
    "### Load data"
   ]
  },
  {
   "cell_type": "code",
   "execution_count": 8,
   "metadata": {},
   "outputs": [],
   "source": [
    "data = pickle.load(open('./population_recordings.pcl','rb'))\n",
    "\n",
    "preferred_orientations = data[\"preferred_orientations\"]\n",
    "stimulus_orientations_train = data[\"stimulus_orientations_train\"]\n",
    "stimulus_orientations_test = data[\"stimulus_orientations_test\"]\n",
    "neurons = data['neurons']\n",
    "recordings_train = data[\"recordings_train\"]\n",
    "recordings_test = data[\"recordings_test\"]\n",
    "t = data['time']\n",
    "\n",
    "def read_spike_times(recordings, neuron, stim_orientation):\n",
    "    st = recordings.loc[neuron, stim_orientation]\n",
    "    st = np.frombuffer(st, dtype=float)\n",
    "    return st"
   ]
  },
  {
   "cell_type": "code",
   "execution_count": 9,
   "metadata": {},
   "outputs": [
    {
     "name": "stdout",
     "output_type": "stream",
     "text": [
      "neuron: 1\n",
      "head direction: 40.0\n",
      "spike times: [5.62036827e-03 3.18932514e-01 3.41382584e-01 4.54774933e-01\n",
      " 1.27505363e+00 1.31567032e+00 1.32574908e+00 1.54809649e+00\n",
      " 1.65528565e+00 1.86825812e+00 1.89671994e+00 1.92957183e+00\n",
      " 2.08863521e+00 2.16117314e+00 2.21861141e+00 2.29209980e+00\n",
      " 2.38510756e+00 2.44317322e+00 2.53120795e+00 2.53623336e+00\n",
      " 2.55534129e+00 2.94940779e+00 3.03563574e+00 3.09251322e+00\n",
      " 3.11931817e+00 3.26120902e+00 3.51071139e+00 3.57994748e+00\n",
      " 3.81051003e+00 4.01536787e+00 4.29482263e+00 4.42421761e+00\n",
      " 4.68313559e+00 4.69832784e+00 4.86891766e+00 4.88221253e+00\n",
      " 4.90310639e+00 5.09142476e+00 5.15240891e+00 5.39342828e+00\n",
      " 5.48013251e+00 5.72384699e+00 5.83082495e+00 6.06236955e+00\n",
      " 6.56831256e+00 6.63335632e+00 6.63772285e+00 6.93732957e+00\n",
      " 7.02938063e+00 7.48892927e+00 7.54923409e+00 7.57744197e+00\n",
      " 7.60481215e+00 7.63694818e+00 7.75559259e+00 7.75683183e+00\n",
      " 7.77275495e+00 7.81081481e+00 7.85192108e+00 8.02403917e+00\n",
      " 8.12499124e+00 8.21570723e+00 8.26423653e+00 8.56935889e+00\n",
      " 8.63426449e+00 9.44002353e+00 9.60547939e+00 9.82338276e+00\n",
      " 9.92020356e+00 9.96921062e+00]\n"
     ]
    }
   ],
   "source": [
    "ni = neurons[1]\n",
    "stim = stimulus_orientations_train[4]\n",
    "print('neuron:', ni)\n",
    "print('head direction:', stim)\n",
    "print('spike times:',read_spike_times(recordings_train, ni, stim))"
   ]
  },
  {
   "cell_type": "markdown",
   "metadata": {},
   "source": [
    "### Problem 1: Spike count rate\n",
    "FOr each neuron in the data set estimate the mean spike count rate for all stimuli (head direction).\n",
    "\n",
    "- The recorded neurons can be found in the np-array: `neurons`\n",
    "- The stimulus head direction can be found in the np-array: `stimulus_orientations_train`\n",
    "- recording data can be found in:`recordings_train`\n",
    "- to get the spike times call the function: `read_spike_times`\n",
    "- call matshow() from pyplot to visualize the spike count rates depending on neuron and stimulus"
   ]
  },
  {
   "cell_type": "code",
   "execution_count": 10,
   "metadata": {},
   "outputs": [
    {
     "data": {
      "image/png": "[encoded data removed]",
      "text/plain": [
       "<Figure size 288x400 with 2 Axes>"
      ]
     },
     "metadata": {
      "needs_background": "light"
     },
     "output_type": "display_data"
    }
   ],
   "source": [
    "def estimate_rate(recordings, neuron, stim_orientation, t):\n",
    "    st = read_spike_times(recordings, neuron, stim_orientation)\n",
    "    r = len(st)/t\n",
    "    return r\n",
    "\n",
    "n_neurons = len(neurons)\n",
    "n_stim = len(stimulus_orientations_train)\n",
    "rates_train = np.zeros((n_neurons,n_stim ))\n",
    "for ni in neurons:\n",
    "    for j,soj in enumerate(stimulus_orientations_train):\n",
    "        rates_train[ni,j] = estimate_rate(recordings_train,ni,soj,t)\n",
    "mat = plt.matshow(rates_train)\n",
    "plt.ylabel('neuron')\n",
    "plt.xlabel('stimulus')\n",
    "cbar = plt.colorbar(mat)"
   ]
  },
  {
   "cell_type": "markdown",
   "metadata": {},
   "source": [
    "### Problem 2: Tuning curve\n",
    "Each recorded cell responds best to a certain head direction. Visualize the tuning curves for different cells depending on the stiumulus (orientation / head direction). Plot the spike count rate of a cell depending on the stimulus."
   ]
  },
  {
   "cell_type": "code",
   "execution_count": 11,
   "metadata": {},
   "outputs": [
    {
     "data": {
      "image/png": "[encoded data removed]",
      "text/plain": [
       "<Figure size 432x288 with 1 Axes>"
      ]
     },
     "metadata": {
      "needs_background": "light"
     },
     "output_type": "display_data"
    }
   ],
   "source": [
    "plt.plot(stimulus_orientations_train,rates_train[5],'kx')\n",
    "plt.xlabel('stimulus [deg]')\n",
    "plt.ylabel('spike count rate [Hz]')\n",
    "plt.show()"
   ]
  },
  {
   "cell_type": "markdown",
   "metadata": {},
   "source": [
    "### Problem 3: Preferred orientation decoding \n",
    "Estimate the preferred orientations of each individual neuron. You can do this by representing all stimulus directions by vectors in a 2D cartesian coordinate system. Wheight each vector by the spike count rate of a cell for this particular stiumulus and then sum over all vectors. The resulting vector is the preferred orientation of the neuron. Compare the estimated preferred orientations to the actual preferred orientations."
   ]
  },
  {
   "cell_type": "code",
   "execution_count": 12,
   "metadata": {},
   "outputs": [
    {
     "data": {
      "text/plain": [
       "Text(0, 0.5, 'actual tuning')"
      ]
     },
     "execution_count": 12,
     "metadata": {},
     "output_type": "execute_result"
    },
    {
     "data": {
      "image/png": "[encoded data removed]",
      "text/plain": [
       "<Figure size 432x288 with 1 Axes>"
      ]
     },
     "metadata": {
      "needs_background": "light"
     },
     "output_type": "display_data"
    }
   ],
   "source": [
    "def population_vector(rates, orientations):\n",
    "    x = np.cos(np.array(orientations)/180.*np.pi)\n",
    "    y = np.sin(np.array(orientations)/180.*np.pi)\n",
    "    pop_vector = np.sum(x*rates), np.sum(y*rates)\n",
    "    pop_vector = pop_vector / np.sqrt(np.sum(np.square(pop_vector)))\n",
    "    return pop_vector\n",
    "\n",
    "def pop_vector_to_deg(v):\n",
    "    return (np.arctan2(v[1],v[0])*180./np.pi + 360) % 360.\n",
    "    \n",
    "\n",
    "orientation_estimates = []\n",
    "for i in range(n_neurons):\n",
    "    v=population_vector(rates_train[i], stimulus_orientations_train)\n",
    "    orientation_estimates.append(pop_vector_to_deg(v))\n",
    "\n",
    "plt.plot([0,360],[0,360],'k--' )\n",
    "plt.plot(orientation_estimates, preferred_orientations, 'ro')\n",
    "plt.xlabel('estimated tuning')\n",
    "plt.ylabel('actual tuning')\n"
   ]
  },
  {
   "cell_type": "markdown",
   "metadata": {},
   "source": [
    "### Problem 4: Population decoding of head direction\n",
    "Make use of population vectors to decode the the stimulus orientations in the test data set. \n",
    "You have computed the preferred orientation of each cell in the previous excercise. Represent the preferred orientation of each cell as a vector in a 2D cartesian space. Wheight each vector by the spike count rate of the cell and then sum over all vectors. The orientation of the resulting vector is the decoded stimulus. Compare the decoded values to the presented stimuli."
   ]
  },
  {
   "cell_type": "code",
   "execution_count": 13,
   "metadata": {},
   "outputs": [
    {
     "data": {
      "image/png": "[encoded data removed]",
      "text/plain": [
       "<Figure size 288x1152 with 2 Axes>"
      ]
     },
     "metadata": {
      "needs_background": "light"
     },
     "output_type": "display_data"
    }
   ],
   "source": [
    "def decode_head_direction(rates, preferred_orientations):\n",
    "    v=population_vector(rates, preferred_orientations)\n",
    "    head_direction = pop_vector_to_deg(v)\n",
    "    return head_direction\n",
    "\n",
    "n_neurons = len(neurons)\n",
    "n_test = len(stimulus_orientations_test)\n",
    "rates_test = np.zeros((n_neurons, n_test))\n",
    "for i in range(n_neurons):\n",
    "    for j,s in enumerate(recordings_test.keys()):\n",
    "        rates_test[i,j] = estimate_rate(recordings_test,i,s,t)\n",
    "mat = plt.matshow(rates_test)\n",
    "plt.ylabel('neuron')\n",
    "plt.xlabel('stimulus')\n",
    "cbar = plt.colorbar(mat)\n"
   ]
  },
  {
   "cell_type": "code",
   "execution_count": 14,
   "metadata": {},
   "outputs": [
    {
     "name": "stdout",
     "output_type": "stream",
     "text": [
      "0.0 1.8215832660944216\n",
      "72.0 75.5948166082162\n",
      "144.0 145.70868679214402\n",
      "216.0 208.5676373201022\n",
      "288.0 289.2429079495623\n"
     ]
    },
    {
     "data": {
      "image/png": "[encoded data removed]",
      "text/plain": [
       "<Figure size 432x288 with 1 Axes>"
      ]
     },
     "metadata": {
      "needs_background": "light"
     },
     "output_type": "display_data"
    }
   ],
   "source": [
    "for i, so in enumerate(stimulus_orientations_test):\n",
    "    o = decode_head_direction(rates_test[:,i],preferred_orientations)\n",
    "    print(so,o)\n",
    "    plt.plot([so], [o], 'kx')\n",
    "    plt.plot([0,360],[0,360],'k--' )\n",
    "    plt.xlabel('actual stimulus')\n",
    "    plt.ylabel('decoded stimulus')\n"
   ]
  },
  {
   "cell_type": "code",
   "execution_count": null,
   "metadata": {},
   "outputs": [],
   "source": []
  },
  {
   "cell_type": "code",
   "execution_count": null,
   "metadata": {},
   "outputs": [],
   "source": []
  }
 ],
 "metadata": {
  "kernelspec": {
   "display_name": "Python 3 (ipykernel)",
   "language": "python",
   "name": "python3"
  },
  "language_info": {
   "codemirror_mode": {
    "name": "ipython",
    "version": 3
   },
   "file_extension": ".py",
   "mimetype": "text/x-python",
   "name": "python",
   "nbconvert_exporter": "python",
   "pygments_lexer": "ipython3",
   "version": "3.9.7"
  }
 },
 "nbformat": 4,
 "nbformat_minor": 4
}
