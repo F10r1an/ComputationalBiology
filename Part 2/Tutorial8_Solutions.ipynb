{
 "cells": [
  {
   "cell_type": "markdown",
   "metadata": {},
   "source": [
    "# Notebook 8: Information Theory\n",
    "\n",
    "Computational Biology 2 - WS 23/24\n",
    "\n",
    "Material created by Katharina Bracher and Florian Eberhardt."
   ]
  },
  {
   "cell_type": "code",
   "execution_count": 1,
   "metadata": {},
   "outputs": [
    {
     "data": {
      "text/plain": [
       "1.0219280948873624"
      ]
     },
     "execution_count": 1,
     "metadata": {},
     "output_type": "execute_result"
    }
   ],
   "source": [
    "import numpy as np\n",
    "p = [0.8, 0.1, 0.05, 0.05]\n",
    "def entropy(p):\n",
    "    entropy = 0.\n",
    "    for pi in p:\n",
    "        entropy += - pi* np.log2(pi)\n",
    "    return entropy\n",
    "entropy(p)"
   ]
  },
  {
   "cell_type": "code",
   "execution_count": 2,
   "metadata": {},
   "outputs": [
    {
     "data": {
      "text/plain": [
       "1.2999999999999998"
      ]
     },
     "execution_count": 2,
     "metadata": {},
     "output_type": "execute_result"
    }
   ],
   "source": [
    "0.8 * 1 + 0.1 * 2 + 0.05*3 + 0.05*3"
   ]
  },
  {
   "cell_type": "code",
   "execution_count": 3,
   "metadata": {},
   "outputs": [
    {
     "data": {
      "text/plain": [
       "2.0"
      ]
     },
     "execution_count": 3,
     "metadata": {},
     "output_type": "execute_result"
    }
   ],
   "source": [
    "p = [0.25]*4\n",
    "entropy(p)"
   ]
  },
  {
   "cell_type": "code",
   "execution_count": 4,
   "metadata": {},
   "outputs": [
    {
     "name": "stderr",
     "output_type": "stream",
     "text": [
      "/home/work/.conda/envs/py39env/lib/python3.9/site-packages/scipy/__init__.py:146: UserWarning: A NumPy version >=1.16.5 and <1.23.0 is required for this version of SciPy (detected version 1.26.0\n",
      "  warnings.warn(f\"A NumPy version >={np_minversion} and <{np_maxversion}\"\n",
      "/home/work/.conda/envs/py39env/lib/python3.9/site-packages/pandas/core/arrays/masked.py:62: UserWarning: Pandas requires version '1.3.4' or newer of 'bottleneck' (version '1.3.2' currently installed).\n",
      "  from pandas.core import (\n"
     ]
    }
   ],
   "source": [
    "import numpy as np\n",
    "import matplotlib.pyplot as plt\n",
    "import seaborn as sns\n",
    "from scipy import stats as stats"
   ]
  },
  {
   "cell_type": "markdown",
   "metadata": {},
   "source": [
    "### Problem 1: Entropy of a fair dice\n",
    "Compute the entropy for different fair dice with 4,6,8,10,12,20 sides respectively.\n",
    "How would the entropy change if the dice were unfair?"
   ]
  },
  {
   "cell_type": "markdown",
   "metadata": {},
   "source": [
    "### Problem 2: Mutual information\n",
    "You are playing 'Mensch ärgere Dich nicht!' with three friends over the phone. Your first friend is always honest. However, your second and third friends are cheating. In one out of two cases, whenever your second friend does not roll a 6, your friend increases the number showing up by 1. Your third friend rolls a die for you to hear the sound and then reports a random number, independent from the die, but 6 is more likely than all other values. Compute the mutual information in all three cases."
   ]
  },
  {
   "cell_type": "code",
   "execution_count": 5,
   "metadata": {},
   "outputs": [
    {
     "data": {
      "text/plain": [
       "1.0"
      ]
     },
     "execution_count": 5,
     "metadata": {},
     "output_type": "execute_result"
    }
   ],
   "source": [
    "p1 = [0.5,0.5]\n",
    "entropy(p1)"
   ]
  },
  {
   "cell_type": "code",
   "execution_count": 6,
   "metadata": {},
   "outputs": [
    {
     "data": {
      "text/plain": [
       "1.7516291673878226"
      ]
     },
     "execution_count": 6,
     "metadata": {},
     "output_type": "execute_result"
    }
   ],
   "source": [
    "p  =[1./6]*6\n",
    "entropy(p) - 5/6."
   ]
  },
  {
   "cell_type": "markdown",
   "metadata": {},
   "source": [
    "# Entropy rate of a spike train\n",
    "Compute the entropy of a spike train according to equation (4.54) (p. 146, Dayan and Abbott, Theoretical Neuroscience). \n",
    "You can simulate a Poisson spike train."
   ]
  },
  {
   "cell_type": "markdown",
   "metadata": {},
   "source": [
    "### How to search for a spike pattern along a spike train?\n"
   ]
  },
  {
   "cell_type": "code",
   "execution_count": 7,
   "metadata": {},
   "outputs": [
    {
     "name": "stdout",
     "output_type": "stream",
     "text": [
      "Occurrences found at positions: [0 2 4 6]\n",
      "Number of occurrences: 4\n"
     ]
    }
   ],
   "source": [
    "import numpy as np\n",
    "\n",
    "binarized_spike_train = np.array([0, 1, 0, 1, 0, 1, 0, 1, 0, 1, 0, 0, 1, 1, 0, 1, 1, 0, 1, 0])\n",
    "pattern = np.array([0, 1, 0, 1])\n",
    "\n",
    "\n",
    "# Example long array\n",
    "long_array = binarized_spike_train*2.-1.\n",
    "\n",
    "# Example short array\n",
    "short_array = pattern * 2. - 1.\n",
    "short_array = short_array[::-1]  # reverse, due to negative time argument in filter function\n",
    "\n",
    "# Find occurrences\n",
    "occurrences = np.where(np.convolve(short_array, long_array, mode='valid') == len(short_array))[0]\n",
    "\n",
    "print(\"Occurrences found at positions:\", occurrences)\n",
    "print(\"Number of occurrences:\", len(occurrences))"
   ]
  },
  {
   "cell_type": "code",
   "execution_count": 8,
   "metadata": {},
   "outputs": [
    {
     "data": {
      "text/plain": [
       "array([-1., -1., -1., -1.])"
      ]
     },
     "execution_count": 8,
     "metadata": {},
     "output_type": "execute_result"
    }
   ],
   "source": [
    "long_array[:4]*short_array"
   ]
  },
  {
   "cell_type": "code",
   "execution_count": 9,
   "metadata": {},
   "outputs": [
    {
     "data": {
      "text/plain": [
       "array([ 4., -4.,  4., -4.,  4., -4.,  4., -4.,  2.,  0.,  0.,  0.,  2.,\n",
       "       -2.,  0.,  2., -4.])"
      ]
     },
     "execution_count": 9,
     "metadata": {},
     "output_type": "execute_result"
    }
   ],
   "source": [
    "np.convolve(long_array, short_array, mode='valid')"
   ]
  },
  {
   "cell_type": "markdown",
   "metadata": {},
   "source": [
    "Explanation:\n",
    "\n",
    "    np.convolve performs the convolution of two arrays. In this case, it's used to find the occurrences of the short_array in the long_array.\n",
    "    The mode='valid' parameter ensures that only valid cross-correlation is performed, meaning it only considers positions where the full sequence can fit.\n",
    "\n",
    "This approach efficiently finds the starting positions of the sequence in the longer array. The variable occurrences contains the indices where the sequence is found.\n",
    "\n",
    "Note: If the short array is found partially at the beginning or end of the long array, this method won't identify it. If you need to consider such cases, additional handling may be necessary."
   ]
  },
  {
   "cell_type": "markdown",
   "metadata": {},
   "source": [
    "### How to create a list of all possible spike patterns of length N?"
   ]
  },
  {
   "cell_type": "code",
   "execution_count": 10,
   "metadata": {},
   "outputs": [
    {
     "name": "stdout",
     "output_type": "stream",
     "text": [
      "[0 0 0]\n",
      "[0 0 1]\n",
      "[0 1 0]\n",
      "[0 1 1]\n",
      "[1 0 0]\n",
      "[1 0 1]\n",
      "[1 1 0]\n",
      "[1 1 1]\n"
     ]
    }
   ],
   "source": [
    "import numpy as np\n",
    "from itertools import product\n",
    "\n",
    "N = 3  # Adjust N to the desired length\n",
    "\n",
    "# Generate all possible combinations of 0 and 1 for N-length arrays\n",
    "all_combinations = list(product([0, 1], repeat=N))\n",
    "\n",
    "# Convert the combinations to NumPy arrays\n",
    "numpy_arrays = [np.array(combination) for combination in all_combinations]\n",
    "\n",
    "# Print the result\n",
    "for arr in numpy_arrays:\n",
    "    print(arr)"
   ]
  },
  {
   "cell_type": "markdown",
   "metadata": {},
   "source": [
    "In this example, product([0, 1], repeat=N) generates all possible combinations of 0 and 1 with a length of N. The result is converted into NumPy arrays using a list comprehension.\n",
    "\n",
    "Note: Keep in mind that the number of possible combinations grows exponentially with N. For larger values of N, the number of combinations can become very large, and the memory and processing time required to generate and store all combinations may be impractical. Adjust the value of N based on your specific requirements."
   ]
  },
  {
   "cell_type": "code",
   "execution_count": 11,
   "metadata": {},
   "outputs": [
    {
     "ename": "NameError",
     "evalue": "name 'spiking_patterns' is not defined",
     "output_type": "error",
     "traceback": [
      "\u001b[0;31m---------------------------------------------------------------------------\u001b[0m",
      "\u001b[0;31mNameError\u001b[0m                                 Traceback (most recent call last)",
      "Input \u001b[0;32mIn [11]\u001b[0m, in \u001b[0;36m<module>\u001b[0;34m\u001b[0m\n\u001b[1;32m      1\u001b[0m \u001b[38;5;66;03m# TODO continue here...\u001b[39;00m\n\u001b[0;32m----> 3\u001b[0m \u001b[38;5;28;01mfor\u001b[39;00m pattern \u001b[38;5;129;01min\u001b[39;00m \u001b[43mspiking_patterns\u001b[49m:\n\u001b[1;32m      4\u001b[0m     count_occurrences(pattern, binary_spike_train)\n",
      "\u001b[0;31mNameError\u001b[0m: name 'spiking_patterns' is not defined"
     ]
    }
   ],
   "source": [
    "# TODO continue here...\n",
    "\n",
    "for pattern in spiking_patterns:\n",
    "    count_occurrences(pattern, binary_spike_train)\n",
    "    "
   ]
  },
  {
   "cell_type": "markdown",
   "metadata": {},
   "source": [
    "# Solution"
   ]
  },
  {
   "cell_type": "code",
   "execution_count": 12,
   "metadata": {},
   "outputs": [],
   "source": [
    "def generate_patterns(length):\n",
    "    from itertools import product\n",
    "    # Generate all possible combinations of 0 and 1 for N-length arrays\n",
    "    all_combinations = list(product([0, 1], repeat=length))\n",
    "\n",
    "    # Convert the combinations to NumPy arrays\n",
    "    pattern_arrays = [np.array(combination) for combination in all_combinations]\n",
    "    return pattern_arrays\n",
    "\n",
    "def count_occurences(pattern, binarized_spike_train):\n",
    "    spike_array = binarized_spike_train*2.-1.\n",
    "\n",
    "    pattern_array = pattern * 2. - 1.\n",
    "    pattern_array = pattern_array[::-1]  # reverse, due to negative time argument in filter function\n",
    "\n",
    "    # Find occurrences\n",
    "    occurrences = np.where(np.convolve(pattern_array, spike_array, mode='valid') == len(pattern_array))[0]\n",
    "    \n",
    "    return len(occurrences)\n",
    "\n",
    "def entropy_rate(pattern_occurences, sequence_duration):\n",
    "    entropy = 0.\n",
    "    total = np.sum(pattern_occurences)\n",
    "    for n_pattern in pattern_occurences:\n",
    "        if n_pattern > 0:\n",
    "            p_B = n_pattern / total\n",
    "            entropy -= p_B * np.log2(p_B)\n",
    "            \n",
    "    entropy_rate= entropy / sequence_duration\n",
    "    return entropy_rate"
   ]
  },
  {
   "cell_type": "code",
   "execution_count": 14,
   "metadata": {},
   "outputs": [
    {
     "name": "stdout",
     "output_type": "stream",
     "text": [
      "9999.3\n",
      "1\n"
     ]
    }
   ],
   "source": [
    "spike_times = np.loadtxt('./grasshopper_spike_times1.txt')\n",
    "# time points in the data are in micro s, transform them to milli s\n",
    "to_milliseconds = 1000\n",
    "spike_times /= to_milliseconds\n",
    "\n",
    "print(np.max(spike_times))\n",
    "\n",
    "delta_t = 3.5 # ms\n",
    "t_spike_train = 9999.5 # ms, integer multiply of delta_t\n",
    "\n",
    "time_bins = np.arange(0.,t_spike_train, delta_t)\n",
    "\n",
    "binarized_spike_train=np.histogram(spike_times,time_bins)[0]\n",
    "print(np.max(binarized_spike_train))\n"
   ]
  },
  {
   "cell_type": "code",
   "execution_count": 15,
   "metadata": {},
   "outputs": [
    {
     "ename": "NameError",
     "evalue": "name 'sequence_duration_list' is not defined",
     "output_type": "error",
     "traceback": [
      "\u001b[0;31m---------------------------------------------------------------------------\u001b[0m",
      "\u001b[0;31mNameError\u001b[0m                                 Traceback (most recent call last)",
      "Input \u001b[0;32mIn [15]\u001b[0m, in \u001b[0;36m<module>\u001b[0;34m\u001b[0m\n\u001b[0;32m----> 1\u001b[0m sequence_duration \u001b[38;5;241m=\u001b[39m \u001b[43msequence_duration_list\u001b[49m[\u001b[38;5;241m5\u001b[39m]\n\u001b[1;32m      2\u001b[0m pattern_length \u001b[38;5;241m=\u001b[39m \u001b[38;5;28mint\u001b[39m(sequence_duration \u001b[38;5;241m/\u001b[39m delta_t)\n\u001b[1;32m      3\u001b[0m \u001b[38;5;28mlen\u001b[39m(binarized_spike_train) \u001b[38;5;241m/\u001b[39m pattern_length\n",
      "\u001b[0;31mNameError\u001b[0m: name 'sequence_duration_list' is not defined"
     ]
    }
   ],
   "source": [
    "sequence_duration = sequence_duration_list[5]\n",
    "pattern_length = int(sequence_duration / delta_t)\n",
    "len(binarized_spike_train) / pattern_length"
   ]
  },
  {
   "cell_type": "code",
   "execution_count": 16,
   "metadata": {},
   "outputs": [],
   "source": [
    "sequence_duration_list = [delta_t * m for m in range(1,17)]  # ms, integer multiply of delta_t, <= 56\n",
    "entropy_rates = []"
   ]
  },
  {
   "cell_type": "code",
   "execution_count": 17,
   "metadata": {},
   "outputs": [
    {
     "name": "stdout",
     "output_type": "stream",
     "text": [
      "3.5\n",
      "7.0\n",
      "10.5\n",
      "14.0\n",
      "17.5\n",
      "21.0\n",
      "24.5\n",
      "28.0\n",
      "31.5\n",
      "35.0\n",
      "38.5\n",
      "42.0\n",
      "45.5\n",
      "49.0\n",
      "52.5\n",
      "56.0\n"
     ]
    }
   ],
   "source": [
    "for sequence_duration in sequence_duration_list:\n",
    "    print(sequence_duration)\n",
    "    pattern_length = int(sequence_duration / delta_t)\n",
    "    all_patterns = generate_patterns(pattern_length)\n",
    "    \n",
    "    occurences = []\n",
    "    for pattern in all_patterns:\n",
    "        occurences.append( count_occurences(pattern, binarized_spike_train) )\n",
    "        \n",
    "    entropy_rates.append(entropy_rate(occurences, sequence_duration) * 1000.) # convert to seconds"
   ]
  },
  {
   "cell_type": "code",
   "execution_count": 18,
   "metadata": {},
   "outputs": [
    {
     "name": "stdout",
     "output_type": "stream",
     "text": [
      "limit value:  236.0521409410746 bits/second\n"
     ]
    },
    {
     "data": {
      "image/png": "[encoded data removed]",
      "text/plain": [
       "<Figure size 1200x800 with 1 Axes>"
      ]
     },
     "metadata": {
      "needs_background": "light"
     },
     "output_type": "display_data"
    }
   ],
   "source": [
    "import matplotlib.pyplot as plt\n",
    "\n",
    "x = 1./np.array(sequence_duration_list)[:6]\n",
    "y = entropy_rates[:6]\n",
    "coef = np.polyfit(x,y,1)\n",
    "poly1d_fn = np.poly1d(coef) \n",
    "\n",
    "fig = plt.figure(dpi=200)\n",
    "plt.plot(1./np.array(sequence_duration_list), entropy_rates, 'k-')\n",
    "plt.plot(1./np.array(sequence_duration_list)[:6], entropy_rates[:6], 'ro')\n",
    "plt.plot(1./np.array(sequence_duration_list)[6:], entropy_rates[6:], 'ko')\n",
    "plt.plot([0.,0.3], poly1d_fn([0.,0.3]), 'r--')\n",
    "plt.xlim(0.,0.3)\n",
    "plt.ylim(190,270)\n",
    "plt.xlabel('$\\dfrac{1}{T_s}$ ($s^{-1}$)')\n",
    "plt.ylabel('etropy rate (bits/s)')\n",
    "print('limit value: ',coef[1], 'bits/second')"
   ]
  },
  {
   "cell_type": "markdown",
   "metadata": {},
   "source": [
    "### Upper Bound according to Chapter 4.3 in Theroetical Neuroscience by Dayan & Abbott"
   ]
  },
  {
   "cell_type": "code",
   "execution_count": 19,
   "metadata": {},
   "outputs": [
    {
     "data": {
      "text/plain": [
       "284.60832437484396"
      ]
     },
     "execution_count": 19,
     "metadata": {},
     "output_type": "execute_result"
    }
   ],
   "source": [
    "delta_tau = delta_t  * 0.001\n",
    "rate = len(spike_times) / t_spike_train * 1000\n",
    "entropy_rate_bound = rate / np.log(2)*(1.- np.log(rate * delta_tau))\n",
    "entropy_rate_bound"
   ]
  },
  {
   "cell_type": "code",
   "execution_count": 52,
   "metadata": {},
   "outputs": [
    {
     "data": {
      "text/plain": [
       "92.9046452322616"
      ]
     },
     "execution_count": 52,
     "metadata": {},
     "output_type": "execute_result"
    }
   ],
   "source": []
  },
  {
   "cell_type": "code",
   "execution_count": null,
   "metadata": {},
   "outputs": [],
   "source": []
  }
 ],
 "metadata": {
  "kernelspec": {
   "display_name": "Python 3 (ipykernel)",
   "language": "python",
   "name": "python3"
  },
  "language_info": {
   "codemirror_mode": {
    "name": "ipython",
    "version": 3
   },
   "file_extension": ".py",
   "mimetype": "text/x-python",
   "name": "python",
   "nbconvert_exporter": "python",
   "pygments_lexer": "ipython3",
   "version": "3.9.7"
  }
 },
 "nbformat": 4,
 "nbformat_minor": 4
}
